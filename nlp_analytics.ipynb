{
 "cells": [
  {
   "cell_type": "markdown",
   "metadata": {
    "pycharm": {
     "name": "#%% md\n"
    }
   },
   "source": [
    "## CS 510: Analytics and Data Science\n",
    "### NLP Data Science Project: Sarcasm in Reddit Comments \n",
    "\n",
    "This Jupyter Notebook will demostrate some of the lexical analysis features of the NLTK Library on sarcastic reddit posts.\n",
    "\n",
    "### Load Dependencies\n",
    "#### Import the required packages (install them if you haven't already)\n",
    "Display my Python Package Library versions and verify software dependencies loaded:"
   ]
  },
  {
   "cell_type": "code",
   "execution_count": 1,
   "metadata": {
    "pycharm": {
     "is_executing": false,
     "name": "#%%\n"
    }
   },
   "outputs": [
    {
     "data": {
      "text/html": [
       "<style>pre { white-space: pre !important; }</style>"
      ],
      "text/plain": [
       "<IPython.core.display.HTML object>"
      ]
     },
     "metadata": {},
     "output_type": "display_data"
    },
    {
     "name": "stdout",
     "output_type": "stream",
     "text": [
      "NLTK: 3.4.5\n",
      "Pandas: 0.25.3\n",
      "matplotlib: 3.1.2\n"
     ]
    }
   ],
   "source": [
    "import nltk\n",
    "import pandas as pd\n",
    "from nltk.corpus import stopwords\n",
    "from nltk.tokenize import RegexpTokenizer\n",
    "#import sys\n",
    "#sys.modules.pop('matplotlib')\n",
    "import matplotlib\n",
    "from matplotlib import pyplot as plt\n",
    "#import matplotlib.pyplot as plt\n",
    "# from collections import defaultdict\n",
    "from IPython.display import display, HTML\n",
    "display(HTML(\"<style>pre { white-space: pre !important; }</style>\"))\n",
    "plt.rcdefaults()\n",
    "%matplotlib inline\n",
    "#%matplotlib notebook\n",
    "\n",
    "print(f\"NLTK: {nltk.__version__}\")\n",
    "print(f\"Pandas: {pd.__version__}\")\n",
    "print(f\"matplotlib: {matplotlib.__version__}\")\n"
   ]
  },
  {
   "cell_type": "markdown",
   "metadata": {},
   "source": [
    "#### Load Sarcastic Content and Meta Data from CSV file\n",
    "Loading the sarcastic reddit comments and meta-data from a tab delimited CSV file."
   ]
  },
  {
   "cell_type": "code",
   "execution_count": 2,
   "metadata": {
    "pycharm": {
     "is_executing": false,
     "name": "#%%\n"
    }
   },
   "outputs": [
    {
     "data": {
      "text/html": [
       "<style  type=\"text/css\" >\n",
       "    #T_68c66836_52f2_11ea_ae93_0050b663cb2b th {\n",
       "          text-align: center;\n",
       "    }    #T_68c66836_52f2_11ea_ae93_0050b663cb2b th {\n",
       "          white-space: nowrap;\n",
       "    }    #T_68c66836_52f2_11ea_ae93_0050b663cb2b td {\n",
       "          text-align: left;\n",
       "    }    #T_68c66836_52f2_11ea_ae93_0050b663cb2brow0_col0 {\n",
       "            white-space:  nowrap;\n",
       "        }    #T_68c66836_52f2_11ea_ae93_0050b663cb2brow0_col1 {\n",
       "            width:  300px;\n",
       "        }    #T_68c66836_52f2_11ea_ae93_0050b663cb2brow1_col0 {\n",
       "            white-space:  nowrap;\n",
       "        }    #T_68c66836_52f2_11ea_ae93_0050b663cb2brow1_col1 {\n",
       "            width:  300px;\n",
       "        }    #T_68c66836_52f2_11ea_ae93_0050b663cb2brow2_col0 {\n",
       "            white-space:  nowrap;\n",
       "        }    #T_68c66836_52f2_11ea_ae93_0050b663cb2brow2_col1 {\n",
       "            width:  300px;\n",
       "        }    #T_68c66836_52f2_11ea_ae93_0050b663cb2brow3_col0 {\n",
       "            white-space:  nowrap;\n",
       "        }    #T_68c66836_52f2_11ea_ae93_0050b663cb2brow3_col1 {\n",
       "            width:  300px;\n",
       "        }    #T_68c66836_52f2_11ea_ae93_0050b663cb2brow4_col0 {\n",
       "            white-space:  nowrap;\n",
       "        }    #T_68c66836_52f2_11ea_ae93_0050b663cb2brow4_col1 {\n",
       "            width:  300px;\n",
       "        }    #T_68c66836_52f2_11ea_ae93_0050b663cb2brow5_col0 {\n",
       "            white-space:  nowrap;\n",
       "        }    #T_68c66836_52f2_11ea_ae93_0050b663cb2brow5_col1 {\n",
       "            width:  300px;\n",
       "        }    #T_68c66836_52f2_11ea_ae93_0050b663cb2brow6_col0 {\n",
       "            white-space:  nowrap;\n",
       "        }    #T_68c66836_52f2_11ea_ae93_0050b663cb2brow6_col1 {\n",
       "            width:  300px;\n",
       "        }    #T_68c66836_52f2_11ea_ae93_0050b663cb2brow7_col0 {\n",
       "            white-space:  nowrap;\n",
       "        }    #T_68c66836_52f2_11ea_ae93_0050b663cb2brow7_col1 {\n",
       "            width:  300px;\n",
       "        }    #T_68c66836_52f2_11ea_ae93_0050b663cb2brow8_col0 {\n",
       "            white-space:  nowrap;\n",
       "        }    #T_68c66836_52f2_11ea_ae93_0050b663cb2brow8_col1 {\n",
       "            width:  300px;\n",
       "        }</style><table id=\"T_68c66836_52f2_11ea_ae93_0050b663cb2b\" ><thead>    <tr>        <th class=\"col_heading level0 col0\" >label</th>        <th class=\"col_heading level0 col1\" >comment</th>        <th class=\"col_heading level0 col2\" >author</th>        <th class=\"col_heading level0 col3\" >subreddit</th>        <th class=\"col_heading level0 col4\" >rank</th>        <th class=\"col_heading level0 col5\" >up</th>        <th class=\"col_heading level0 col6\" >down</th>        <th class=\"col_heading level0 col7\" >date</th>        <th class=\"col_heading level0 col8\" >Unix Time</th>        <th class=\"col_heading level0 col9\" >Parent Comment</th>        <th class=\"col_heading level0 col10\" >Parent ID</th>        <th class=\"col_heading level0 col11\" >Link ID</th>    </tr></thead><tbody>\n",
       "                <tr>\n",
       "                                <td id=\"T_68c66836_52f2_11ea_ae93_0050b663cb2brow0_col0\" class=\"data row0 col0\" >1</td>\n",
       "                        <td id=\"T_68c66836_52f2_11ea_ae93_0050b663cb2brow0_col1\" class=\"data row0 col1\" >I need a girlfriend?!?  OMG I am insulted!  And the code is wrong anyway IDIOTS!</td>\n",
       "                        <td id=\"T_68c66836_52f2_11ea_ae93_0050b663cb2brow0_col2\" class=\"data row0 col2\" >bigmell</td>\n",
       "                        <td id=\"T_68c66836_52f2_11ea_ae93_0050b663cb2brow0_col3\" class=\"data row0 col3\" >programming</td>\n",
       "                        <td id=\"T_68c66836_52f2_11ea_ae93_0050b663cb2brow0_col4\" class=\"data row0 col4\" >1</td>\n",
       "                        <td id=\"T_68c66836_52f2_11ea_ae93_0050b663cb2brow0_col5\" class=\"data row0 col5\" >1</td>\n",
       "                        <td id=\"T_68c66836_52f2_11ea_ae93_0050b663cb2brow0_col6\" class=\"data row0 col6\" >0</td>\n",
       "                        <td id=\"T_68c66836_52f2_11ea_ae93_0050b663cb2brow0_col7\" class=\"data row0 col7\" >2009-01</td>\n",
       "                        <td id=\"T_68c66836_52f2_11ea_ae93_0050b663cb2brow0_col8\" class=\"data row0 col8\" >1.23343e+09</td>\n",
       "                        <td id=\"T_68c66836_52f2_11ea_ae93_0050b663cb2brow0_col9\" class=\"data row0 col9\" >What if you can see how wrong that code is?</td>\n",
       "                        <td id=\"T_68c66836_52f2_11ea_ae93_0050b663cb2brow0_col10\" class=\"data row0 col10\" >c07e0zz</td>\n",
       "                        <td id=\"T_68c66836_52f2_11ea_ae93_0050b663cb2brow0_col11\" class=\"data row0 col11\" >7tv5i</td>\n",
       "            </tr>\n",
       "            <tr>\n",
       "                                <td id=\"T_68c66836_52f2_11ea_ae93_0050b663cb2brow1_col0\" class=\"data row1 col0\" >1</td>\n",
       "                        <td id=\"T_68c66836_52f2_11ea_ae93_0050b663cb2brow1_col1\" class=\"data row1 col1\" >That socialist bastard</td>\n",
       "                        <td id=\"T_68c66836_52f2_11ea_ae93_0050b663cb2brow1_col2\" class=\"data row1 col2\" >kingkilr</td>\n",
       "                        <td id=\"T_68c66836_52f2_11ea_ae93_0050b663cb2brow1_col3\" class=\"data row1 col3\" >politics</td>\n",
       "                        <td id=\"T_68c66836_52f2_11ea_ae93_0050b663cb2brow1_col4\" class=\"data row1 col4\" >20</td>\n",
       "                        <td id=\"T_68c66836_52f2_11ea_ae93_0050b663cb2brow1_col5\" class=\"data row1 col5\" >20</td>\n",
       "                        <td id=\"T_68c66836_52f2_11ea_ae93_0050b663cb2brow1_col6\" class=\"data row1 col6\" >0</td>\n",
       "                        <td id=\"T_68c66836_52f2_11ea_ae93_0050b663cb2brow1_col7\" class=\"data row1 col7\" >2009-01</td>\n",
       "                        <td id=\"T_68c66836_52f2_11ea_ae93_0050b663cb2brow1_col8\" class=\"data row1 col8\" >1.23343e+09</td>\n",
       "                        <td id=\"T_68c66836_52f2_11ea_ae93_0050b663cb2brow1_col9\" class=\"data row1 col9\" >Under Eisenhower millionares paid about a 90% income tax, and the 50s was when the middle class exploded and college education became the norm.</td>\n",
       "                        <td id=\"T_68c66836_52f2_11ea_ae93_0050b663cb2brow1_col10\" class=\"data row1 col10\" >c07e0iu</td>\n",
       "                        <td id=\"T_68c66836_52f2_11ea_ae93_0050b663cb2brow1_col11\" class=\"data row1 col11\" >7tvv7</td>\n",
       "            </tr>\n",
       "            <tr>\n",
       "                                <td id=\"T_68c66836_52f2_11ea_ae93_0050b663cb2brow2_col0\" class=\"data row2 col0\" >1</td>\n",
       "                        <td id=\"T_68c66836_52f2_11ea_ae93_0050b663cb2brow2_col1\" class=\"data row2 col1\" >Why no one would understand that Israel is a peaceful country? They do that only to avoid war!</td>\n",
       "                        <td id=\"T_68c66836_52f2_11ea_ae93_0050b663cb2brow2_col2\" class=\"data row2 col2\" >BanX</td>\n",
       "                        <td id=\"T_68c66836_52f2_11ea_ae93_0050b663cb2brow2_col3\" class=\"data row2 col3\" >worldnews</td>\n",
       "                        <td id=\"T_68c66836_52f2_11ea_ae93_0050b663cb2brow2_col4\" class=\"data row2 col4\" >2</td>\n",
       "                        <td id=\"T_68c66836_52f2_11ea_ae93_0050b663cb2brow2_col5\" class=\"data row2 col5\" >2</td>\n",
       "                        <td id=\"T_68c66836_52f2_11ea_ae93_0050b663cb2brow2_col6\" class=\"data row2 col6\" >0</td>\n",
       "                        <td id=\"T_68c66836_52f2_11ea_ae93_0050b663cb2brow2_col7\" class=\"data row2 col7\" >2009-01</td>\n",
       "                        <td id=\"T_68c66836_52f2_11ea_ae93_0050b663cb2brow2_col8\" class=\"data row2 col8\" >1.23341e+09</td>\n",
       "                        <td id=\"T_68c66836_52f2_11ea_ae93_0050b663cb2brow2_col9\" class=\"data row2 col9\" >\"Israeli Ambassador to Australia Says Will \"\"Deal With\"\" Iran's Nuclear Program Within a Month\"</td>\n",
       "                        <td id=\"T_68c66836_52f2_11ea_ae93_0050b663cb2brow2_col10\" class=\"data row2 col10\" >c07dv92</td>\n",
       "                        <td id=\"T_68c66836_52f2_11ea_ae93_0050b663cb2brow2_col11\" class=\"data row2 col11\" >7tsr2</td>\n",
       "            </tr>\n",
       "            <tr>\n",
       "                                <td id=\"T_68c66836_52f2_11ea_ae93_0050b663cb2brow3_col0\" class=\"data row3 col0\" >1</td>\n",
       "                        <td id=\"T_68c66836_52f2_11ea_ae93_0050b663cb2brow3_col1\" class=\"data row3 col1\" >Oh sure, blame it all on the Jews.  How original.</td>\n",
       "                        <td id=\"T_68c66836_52f2_11ea_ae93_0050b663cb2brow3_col2\" class=\"data row3 col2\" >wolfzero</td>\n",
       "                        <td id=\"T_68c66836_52f2_11ea_ae93_0050b663cb2brow3_col3\" class=\"data row3 col3\" >worldnews</td>\n",
       "                        <td id=\"T_68c66836_52f2_11ea_ae93_0050b663cb2brow3_col4\" class=\"data row3 col4\" >-2</td>\n",
       "                        <td id=\"T_68c66836_52f2_11ea_ae93_0050b663cb2brow3_col5\" class=\"data row3 col5\" >-2</td>\n",
       "                        <td id=\"T_68c66836_52f2_11ea_ae93_0050b663cb2brow3_col6\" class=\"data row3 col6\" >0</td>\n",
       "                        <td id=\"T_68c66836_52f2_11ea_ae93_0050b663cb2brow3_col7\" class=\"data row3 col7\" >2009-01</td>\n",
       "                        <td id=\"T_68c66836_52f2_11ea_ae93_0050b663cb2brow3_col8\" class=\"data row3 col8\" >1.23339e+09</td>\n",
       "                        <td id=\"T_68c66836_52f2_11ea_ae93_0050b663cb2brow3_col9\" class=\"data row3 col9\" >...and I am to Blame?</td>\n",
       "                        <td id=\"T_68c66836_52f2_11ea_ae93_0050b663cb2brow3_col10\" class=\"data row3 col10\" >c07dtko</td>\n",
       "                        <td id=\"T_68c66836_52f2_11ea_ae93_0050b663cb2brow3_col11\" class=\"data row3 col11\" >7tqmc</td>\n",
       "            </tr>\n",
       "            <tr>\n",
       "                                <td id=\"T_68c66836_52f2_11ea_ae93_0050b663cb2brow4_col0\" class=\"data row4 col0\" >1</td>\n",
       "                        <td id=\"T_68c66836_52f2_11ea_ae93_0050b663cb2brow4_col1\" class=\"data row4 col1\" >This guy sucks. If they let him on, I'll never watch that show again. :(</td>\n",
       "                        <td id=\"T_68c66836_52f2_11ea_ae93_0050b663cb2brow4_col2\" class=\"data row4 col2\" >rlee0001</td>\n",
       "                        <td id=\"T_68c66836_52f2_11ea_ae93_0050b663cb2brow4_col3\" class=\"data row4 col3\" >funny</td>\n",
       "                        <td id=\"T_68c66836_52f2_11ea_ae93_0050b663cb2brow4_col4\" class=\"data row4 col4\" >1</td>\n",
       "                        <td id=\"T_68c66836_52f2_11ea_ae93_0050b663cb2brow4_col5\" class=\"data row4 col5\" >1</td>\n",
       "                        <td id=\"T_68c66836_52f2_11ea_ae93_0050b663cb2brow4_col6\" class=\"data row4 col6\" >0</td>\n",
       "                        <td id=\"T_68c66836_52f2_11ea_ae93_0050b663cb2brow4_col7\" class=\"data row4 col7\" >2009-01</td>\n",
       "                        <td id=\"T_68c66836_52f2_11ea_ae93_0050b663cb2brow4_col8\" class=\"data row4 col8\" >1.23339e+09</td>\n",
       "                        <td id=\"T_68c66836_52f2_11ea_ae93_0050b663cb2brow4_col9\" class=\"data row4 col9\" >Never Forget: Phil Hartman</td>\n",
       "                        <td id=\"T_68c66836_52f2_11ea_ae93_0050b663cb2brow4_col10\" class=\"data row4 col10\" >c07dt1x</td>\n",
       "                        <td id=\"T_68c66836_52f2_11ea_ae93_0050b663cb2brow4_col11\" class=\"data row4 col11\" >7tt32</td>\n",
       "            </tr>\n",
       "            <tr>\n",
       "                                <td id=\"T_68c66836_52f2_11ea_ae93_0050b663cb2brow5_col0\" class=\"data row5 col0\" >1</td>\n",
       "                        <td id=\"T_68c66836_52f2_11ea_ae93_0050b663cb2brow5_col1\" class=\"data row5 col1\" >Hey, look at me!  I'm saying shit about MS.  I'm so cool and popular!</td>\n",
       "                        <td id=\"T_68c66836_52f2_11ea_ae93_0050b663cb2brow5_col2\" class=\"data row5 col2\" >MoBe</td>\n",
       "                        <td id=\"T_68c66836_52f2_11ea_ae93_0050b663cb2brow5_col3\" class=\"data row5 col3\" >technology</td>\n",
       "                        <td id=\"T_68c66836_52f2_11ea_ae93_0050b663cb2brow5_col4\" class=\"data row5 col4\" >-1</td>\n",
       "                        <td id=\"T_68c66836_52f2_11ea_ae93_0050b663cb2brow5_col5\" class=\"data row5 col5\" >-1</td>\n",
       "                        <td id=\"T_68c66836_52f2_11ea_ae93_0050b663cb2brow5_col6\" class=\"data row5 col6\" >0</td>\n",
       "                        <td id=\"T_68c66836_52f2_11ea_ae93_0050b663cb2brow5_col7\" class=\"data row5 col7\" >2009-01</td>\n",
       "                        <td id=\"T_68c66836_52f2_11ea_ae93_0050b663cb2brow5_col8\" class=\"data row5 col8\" >1.23338e+09</td>\n",
       "                        <td id=\"T_68c66836_52f2_11ea_ae93_0050b663cb2brow5_col9\" class=\"data row5 col9\" >The most unwanted Firefox extension ever invented.</td>\n",
       "                        <td id=\"T_68c66836_52f2_11ea_ae93_0050b663cb2brow5_col10\" class=\"data row5 col10\" >c07ds32</td>\n",
       "                        <td id=\"T_68c66836_52f2_11ea_ae93_0050b663cb2brow5_col11\" class=\"data row5 col11\" >7tog0</td>\n",
       "            </tr>\n",
       "            <tr>\n",
       "                                <td id=\"T_68c66836_52f2_11ea_ae93_0050b663cb2brow6_col0\" class=\"data row6 col0\" >1</td>\n",
       "                        <td id=\"T_68c66836_52f2_11ea_ae93_0050b663cb2brow6_col1\" class=\"data row6 col1\" >After all, they may be smuggling in weapons on a humanitarian aid mission.</td>\n",
       "                        <td id=\"T_68c66836_52f2_11ea_ae93_0050b663cb2brow6_col2\" class=\"data row6 col2\" >jo42</td>\n",
       "                        <td id=\"T_68c66836_52f2_11ea_ae93_0050b663cb2brow6_col3\" class=\"data row6 col3\" >reddit.com</td>\n",
       "                        <td id=\"T_68c66836_52f2_11ea_ae93_0050b663cb2brow6_col4\" class=\"data row6 col4\" >2</td>\n",
       "                        <td id=\"T_68c66836_52f2_11ea_ae93_0050b663cb2brow6_col5\" class=\"data row6 col5\" >2</td>\n",
       "                        <td id=\"T_68c66836_52f2_11ea_ae93_0050b663cb2brow6_col6\" class=\"data row6 col6\" >0</td>\n",
       "                        <td id=\"T_68c66836_52f2_11ea_ae93_0050b663cb2brow6_col7\" class=\"data row6 col7\" >2009-01</td>\n",
       "                        <td id=\"T_68c66836_52f2_11ea_ae93_0050b663cb2brow6_col8\" class=\"data row6 col8\" >1.23338e+09</td>\n",
       "                        <td id=\"T_68c66836_52f2_11ea_ae93_0050b663cb2brow6_col9\" class=\"data row6 col9\" >Israel has refused to allow a French-made water purification system into Gaza amid a drinking water crisis in the Palestinian strip.</td>\n",
       "                        <td id=\"T_68c66836_52f2_11ea_ae93_0050b663cb2brow6_col10\" class=\"data row6 col10\" >c07dq0s</td>\n",
       "                        <td id=\"T_68c66836_52f2_11ea_ae93_0050b663cb2brow6_col11\" class=\"data row6 col11\" >7tpd9</td>\n",
       "            </tr>\n",
       "            <tr>\n",
       "                                <td id=\"T_68c66836_52f2_11ea_ae93_0050b663cb2brow7_col0\" class=\"data row7 col0\" >1</td>\n",
       "                        <td id=\"T_68c66836_52f2_11ea_ae93_0050b663cb2brow7_col1\" class=\"data row7 col1\" >Anti-semitic holocaust denier!</td>\n",
       "                        <td id=\"T_68c66836_52f2_11ea_ae93_0050b663cb2brow7_col2\" class=\"data row7 col2\" >veritaze</td>\n",
       "                        <td id=\"T_68c66836_52f2_11ea_ae93_0050b663cb2brow7_col3\" class=\"data row7 col3\" >Economics</td>\n",
       "                        <td id=\"T_68c66836_52f2_11ea_ae93_0050b663cb2brow7_col4\" class=\"data row7 col4\" >5</td>\n",
       "                        <td id=\"T_68c66836_52f2_11ea_ae93_0050b663cb2brow7_col5\" class=\"data row7 col5\" >5</td>\n",
       "                        <td id=\"T_68c66836_52f2_11ea_ae93_0050b663cb2brow7_col6\" class=\"data row7 col6\" >0</td>\n",
       "                        <td id=\"T_68c66836_52f2_11ea_ae93_0050b663cb2brow7_col7\" class=\"data row7 col7\" >2009-01</td>\n",
       "                        <td id=\"T_68c66836_52f2_11ea_ae93_0050b663cb2brow7_col8\" class=\"data row7 col8\" >1.23337e+09</td>\n",
       "                        <td id=\"T_68c66836_52f2_11ea_ae93_0050b663cb2brow7_col9\" class=\"data row7 col9\" >Secret Israeli database reveals full extent of illegal settlement</td>\n",
       "                        <td id=\"T_68c66836_52f2_11ea_ae93_0050b663cb2brow7_col10\" class=\"data row7 col10\" >c07dp94</td>\n",
       "                        <td id=\"T_68c66836_52f2_11ea_ae93_0050b663cb2brow7_col11\" class=\"data row7 col11\" >7trok</td>\n",
       "            </tr>\n",
       "            <tr>\n",
       "                                <td id=\"T_68c66836_52f2_11ea_ae93_0050b663cb2brow8_col0\" class=\"data row8 col0\" >1</td>\n",
       "                        <td id=\"T_68c66836_52f2_11ea_ae93_0050b663cb2brow8_col1\" class=\"data row8 col1\" >wow, that's such a brave thing to say</td>\n",
       "                        <td id=\"T_68c66836_52f2_11ea_ae93_0050b663cb2brow8_col2\" class=\"data row8 col2\" >kublakhan</td>\n",
       "                        <td id=\"T_68c66836_52f2_11ea_ae93_0050b663cb2brow8_col3\" class=\"data row8 col3\" >Music</td>\n",
       "                        <td id=\"T_68c66836_52f2_11ea_ae93_0050b663cb2brow8_col4\" class=\"data row8 col4\" >2</td>\n",
       "                        <td id=\"T_68c66836_52f2_11ea_ae93_0050b663cb2brow8_col5\" class=\"data row8 col5\" >2</td>\n",
       "                        <td id=\"T_68c66836_52f2_11ea_ae93_0050b663cb2brow8_col6\" class=\"data row8 col6\" >0</td>\n",
       "                        <td id=\"T_68c66836_52f2_11ea_ae93_0050b663cb2brow8_col7\" class=\"data row8 col7\" >2009-01</td>\n",
       "                        <td id=\"T_68c66836_52f2_11ea_ae93_0050b663cb2brow8_col8\" class=\"data row8 col8\" >1.23335e+09</td>\n",
       "                        <td id=\"T_68c66836_52f2_11ea_ae93_0050b663cb2brow8_col9\" class=\"data row8 col9\" >Fleet Foxes Hate Major labels</td>\n",
       "                        <td id=\"T_68c66836_52f2_11ea_ae93_0050b663cb2brow8_col10\" class=\"data row8 col10\" >c07dg8y</td>\n",
       "                        <td id=\"T_68c66836_52f2_11ea_ae93_0050b663cb2brow8_col11\" class=\"data row8 col11\" >7tglx</td>\n",
       "            </tr>\n",
       "    </tbody></table>"
      ],
      "text/plain": [
       "<IPython.core.display.HTML object>"
      ]
     },
     "metadata": {},
     "output_type": "display_data"
    }
   ],
   "source": [
    "#file = 'sarc_s_meta_100k.csv'\n",
    "file = 'sarc_s_meta_10k.csv'\n",
    "#file = 'sarc_s_meta_10.csv'\n",
    "col_headers = ['label', 'comment', 'author', 'subreddit', 'rank', 'up', 'down',\n",
    "               'date', 'Unix Time', 'Parent Comment', 'Parent ID', 'Link ID']\n",
    "comments_df = pd.read_csv(file, names=col_headers, sep='\\t', error_bad_lines=False, quoting=3) # quotechar=None)\n",
    "\n",
    "# Remove Rows with Null Column Values\n",
    "for col in col_headers:\n",
    "    # if you want to allow null colunmn values for parent comments\n",
    "    #if col != 'parent_comment' or col != 'parent_comment_id':\n",
    "    comments_df = comments_df[pd.notnull(comments_df[col])]\n",
    "\n",
    "pd.set_option('display.max_rows', 10)\n",
    "pd.set_option('display.expand_frame_repr', False)\n",
    "pd.set_option('display.max_columns', 12)\n",
    "\n",
    "df = pd.DataFrame(comments_df[0:9])\n",
    "\n",
    "# Set table styles\n",
    "styles = [ dict(selector=\"th\", props=[('text-align', 'center')]),\n",
    "           dict(selector=\"th\", props=[('white-space', 'nowrap')]),\n",
    "           dict(selector=\"td\", props=[('text-align', 'left')]) ]\n",
    "styled_df = (df.style\n",
    "             .set_properties(subset=df.columns[0],  **{'white-space':'nowrap'})\n",
    "             .set_properties(subset=df.columns[1],  **{'width': '300px'})\n",
    "             .set_table_styles(styles))\n",
    "\n",
    "html = styled_df.hide_index().render()\n",
    "display(HTML(html))\n",
    "\n",
    "# comments = comments_df['comment'].str.cat()"
   ]
  },
  {
   "cell_type": "markdown",
   "metadata": {},
   "source": [
    "#### Tokenization\n",
    "Create a custom tokenizer to remove punctuation and stopwords.  Stopwords are common words like 'the', 'and', 'an', etc."
   ]
  },
  {
   "cell_type": "code",
   "execution_count": 3,
   "metadata": {
    "pycharm": {
     "is_executing": false,
     "name": "#%%\n"
    }
   },
   "outputs": [],
   "source": [
    "comments = comments_df['comment'].str.cat()\n",
    "\n",
    "tokenizer = RegexpTokenizer(r'\\w+')\n",
    "stop_words = set(stopwords.words('english'))\n",
    "\n",
    "tokens = nltk.word_tokenize(comments)\n",
    "tokens_no_punct = tokenizer.tokenize(comments)\n",
    "text = nltk.Text(tokens_no_punct)\n",
    "\n",
    "text_filtered = nltk.Text([w.lower() for w in text.tokens if w.lower() not in stop_words])\n"
   ]
  },
  {
   "cell_type": "markdown",
   "metadata": {},
   "source": [
    "#### Counting Words, Frequency Distributions, and Collocations\n",
    "We can simply count the number of tokens in a corpus, the number of unique tokens (word types), the\n",
    "lexical diversity of a corpus, the occurrences of a specific word, and the percentage that a word takes up\n",
    "in a corpus, among many other calculations we can make. This will give us some sense of how large the\n",
    "corpus is, how lexically rich it is and allows us to start poking around the corpus."
   ]
  },
  {
   "cell_type": "code",
   "execution_count": 4,
   "metadata": {
    "pycharm": {
     "is_executing": false,
     "name": "#%%\n"
    }
   },
   "outputs": [
    {
     "name": "stdout",
     "output_type": "stream",
     "text": [
      "92882\n",
      "12628\n",
      "0.13595745138993562\n",
      "31\n",
      "0.033375680971555306\n"
     ]
    }
   ],
   "source": [
    "comments = comments_df['comment'].str.cat()\n",
    "tokenizer = RegexpTokenizer(r'\\w+')\n",
    "stop_words = set(stopwords.words('english'))\n",
    "tokens = nltk.word_tokenize(comments)\n",
    "tokens_no_punct = tokenizer.tokenize(comments)\n",
    "text = nltk.Text(tokens_no_punct)\n",
    "text_filtered = nltk.Text([w.lower() for w in text.tokens if w.lower() not in stop_words])\n",
    "\n",
    "print(len(text))                  # Total number of tokens\n",
    "print(len(set(text)))             # number of unique tokens\n",
    "print(len(set(text)) / len(text)) # lexical diversity\n",
    "print(text.count(\"oh\"))           # occurances of a word\n",
    "print(100 * text.count(\"oh\") / len(text)) # % of text"
   ]
  },
  {
   "cell_type": "markdown",
   "metadata": {},
   "source": [
    "### Common Words, Concordance Searching and Frequency Distributions \n",
    "We can display the most common words, perform condordance searches and display frequency distributions."
   ]
  },
  {
   "cell_type": "code",
   "execution_count": 5,
   "metadata": {
    "pycharm": {
     "is_executing": false,
     "name": "#%%\n"
    }
   },
   "outputs": [
    {
     "name": "stdout",
     "output_type": "stream",
     "text": [
      "[('like', 419), ('people', 386), ('yeah', 356), ('would', 325), ('get', 292), ('right', 283), ('know', 265), ('well', 237), ('one', 220), ('good', 216), ('yes', 201), ('oh', 187), ('us', 187), ('see', 182), ('god', 179), ('never', 175), ('sure', 173), ('could', 163), ('way', 155), ('really', 154)]\n",
      "Displaying 25 of 283 matches:\n",
      "ists have some splainin to do You re right Israel actually controls Hamas leade\n",
      "taurants that sell such cheaper soda right Yeah fuck them for recording valid e\n",
      "ky before no way that he ll get this right Aah Accenture Fond memoriesyou forgo\n",
      "ful death is really the way to go Oh right both wars were just jewish conspirac\n",
      " mine wasn t guarded they could walk right in and get uranium 235 I m gonna sle\n",
      "ct in our interest not self interest right So now what socialism in the monetar\n",
      "en to the poor that ll teach em It s right there in the Bible silly What more d\n",
      "sements How fantastic FINALLY You re right we should start sterilizing brown pe\n",
      "ne but don t you know EVERYONE has a RIGHT to have their own child even people \n",
      "ter having not shot him it s ok then Right and they were probably reading up on\n",
      "viously the difference is that we re right and they re wrong The difference of \n",
      "he difference of course is that he s right as opposed to wrong It must be true \n",
      " not be that simple Not if you do it right Can t wait for Ronaldo to go play in\n",
      "different because BrkneS is actually right Right I m sure it was 300 000 indivi\n",
      "ent because BrkneS is actually right Right I m sure it was 300 000 individual p\n",
      " hoo cheaper drugs for everyone He s right The only way to eliminate terrorists\n",
      " for the artists That s some OG sh t right thereyeah i usually just brush off s\n",
      " lovely Pontiac Aztec instead You re right What a living legend He really is do\n",
      "rong You need God to tell you what s right and wrong So what s this linux thing\n",
      "o be female as well but israel has a right to defend itself Oh what a nice warm\n",
      "m socialized medicine I know Finally Right I just heard about it yesterday THAN\n",
      "y wrong and started being completely right saying all regulatory legislation fr\n",
      "r the bubble He had started being as right as he had been wrong With so many pe\n",
      "inefficient public healthcare system right Why would they be worried Ah so we r\n",
      "Way to refute the point GeniusThat s right they should respect the speed limit \n",
      "None\n"
     ]
    },
    {
     "data": {
      "image/png": "[encoded data removed]",
      "text/plain": [
       "<Figure size 432x288 with 1 Axes>"
      ]
     },
     "metadata": {
      "needs_background": "light"
     },
     "output_type": "display_data"
    },
    {
     "data": {
      "text/plain": [
       "<matplotlib.axes._subplots.AxesSubplot at 0x295b8ad7588>"
      ]
     },
     "execution_count": 5,
     "metadata": {},
     "output_type": "execute_result"
    }
   ],
   "source": [
    "fdist = nltk.FreqDist(text_filtered)\n",
    "print(fdist.most_common(20))\n",
    "\n",
    "# Concordance Search of the word 'right'\n",
    "print(text.concordance('right'))\n",
    "\n",
    "# Plot a Fequency Distribution of the 10 most common words\n",
    "#fdist.plot(20, cumulative=False)\n",
    "fdist.plot(20)"
   ]
  },
  {
   "cell_type": "markdown",
   "metadata": {},
   "source": [
    "### Display a lexical Dispersion Plot\n",
    "Show a word's importance weighted by it's lexical disperson in a corpus"
   ]
  },
  {
   "cell_type": "code",
   "execution_count": 6,
   "metadata": {
    "pycharm": {
     "is_executing": false,
     "name": "#%%\n"
    }
   },
   "outputs": [
    {
     "data": {
      "image/png": "[encoded data removed]",
      "text/plain": [
       "<Figure size 432x288 with 1 Axes>"
      ]
     },
     "metadata": {
      "needs_background": "light"
     },
     "output_type": "display_data"
    }
   ],
   "source": [
    "word_list = ['people', 'yeah', 'right', 'god', 'never', 'way', 'really']\n",
    "text.dispersion_plot(word_list)"
   ]
  },
  {
   "cell_type": "markdown",
   "metadata": {},
   "source": [
    "### Similar words, Common Contexts, and Collocations\n",
    "Show a word's importance weighted by it's lexical disperson in a corpus"
   ]
  },
  {
   "cell_type": "code",
   "execution_count": 7,
   "metadata": {
    "pycharm": {
     "is_executing": false,
     "name": "#%%\n"
    }
   },
   "outputs": [
    {
     "name": "stdout",
     "output_type": "stream",
     "text": [
      "they not only we all just totally it you ever also i he now really and\n",
      "would this guess there\n",
      "None\n",
      "s_going can_be reddit_has\n",
      "global warming; health care; Everyone knows; much better; United States; Sarah Palin; free market; Ron Paul; birth certificate; Fox News; would never; years ago; Tea Party; year old; anti semite; Lindsay Lohan; black people; everyone knows; climate change; good thing\n"
     ]
    }
   ],
   "source": [
    "# Search of words that appear in a similar range of contexts as 'never'\n",
    "print(text.similar('never'))\n",
    "# Common Contexts\n",
    "text.common_contexts([\"never\", \"really\"])\n",
    "# Collocations\n",
    "# print(text.collocation_list())  # <-- error ValueError: too many values to unpack (expected 2)\n",
    "print('; '.join(text.collocation_list()))"
   ]
  },
  {
   "cell_type": "markdown",
   "metadata": {
    "pycharm": {
     "name": "#%% md\n"
    }
   },
   "source": [
    "### Other metrics\n",
    "* Number of comments in each subreddit\n",
    "* Comment Scores\n",
    "* Comment Length: How many words\n",
    "* Sentence Length \n",
    "https://andrewpwheeler.com/2016/06/08/sentence-length-in-academic-articles/"
   ]
  }
 ],
 "metadata": {
  "kernelspec": {
   "display_name": "Python 3",
   "language": "python",
   "name": "python3"
  },
  "language_info": {
   "codemirror_mode": {
    "name": "ipython",
    "version": 3
   },
   "file_extension": ".py",
   "mimetype": "text/x-python",
   "name": "python",
   "nbconvert_exporter": "python",
   "pygments_lexer": "ipython3",
   "version": "3.7.5"
  },
  "pycharm": {
   "stem_cell": {
    "cell_type": "raw",
    "metadata": {
     "collapsed": false
    },
    "source": []
   }
  }
 },
 "nbformat": 4,
 "nbformat_minor": 1
}
